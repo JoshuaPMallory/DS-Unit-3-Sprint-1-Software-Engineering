{
 "cells": [
  {
   "cell_type": "markdown",
   "metadata": {},
   "source": [
    "Lambda School Data Science\n",
    "\n",
    "*Unit 3, Sprint 1, Module 3 Assignment*\n",
    "\n",
    "---"
   ]
  },
  {
   "cell_type": "markdown",
   "metadata": {},
   "source": [
    "# Software Testing, Documentation, and Licensing\n",
    "\n",
    "For code to stand the test of time, it is not enough to be well-written - it\n",
    "must be tested and documented. It is also important to understand the basics of\n",
    "software licensing, both in the code you depend on and create."
   ]
  },
  {
   "cell_type": "markdown",
   "metadata": {},
   "source": [
    "## Learning Objectives\n",
    "\n",
    "- Understand purpose of and approaches towards software testing, and be able to\n",
    "  write basic unit tests\n",
    "- Read and write quality comments, Pydoc, and READMEs\n",
    "- Recognize major open-source licenses and their significance for personal and\n",
    "  professional use"
   ]
  },
  {
   "cell_type": "markdown",
   "metadata": {},
   "source": [
    "## Before Lecture\n",
    "\n",
    "Read the official documentation for\n",
    "[unittest](https://docs.python.org/3/library/unittest.html), a Python module for\n",
    "writing basic tests included in the standard library.\n",
    "\n",
    "Read the [pandas\n",
    "README.md](https://github.com/pandas-dev/pandas/blob/master/README.md) - it\n",
    "strikes a good balance between skimmability, immediate usefulness, and reference\n",
    "links for more details.\n",
    "\n",
    "Check out the [Open Source Initiative](https://opensource.org/licenses), the\n",
    "group that formally approves licenses as being \"open source.\" You'll see some\n",
    "familiar and less-familiar license names, as well as a [useful\n",
    "FAQ](https://opensource.org/faq)."
   ]
  },
  {
   "cell_type": "markdown",
   "metadata": {},
   "source": [
    "## Live Lecture Task\n",
    "\n",
    "First we'll write some basic unit tests to demonstrate their functionality.\n",
    "We'll apply these concepts to `lambdata`, but also discuss them more generally.\n",
    "Come with questions and be prepared to discuss documentation and licensing as\n",
    "well!"
   ]
  },
  {
   "cell_type": "markdown",
   "metadata": {},
   "source": [
    "## Assignment\n",
    "\n",
    "Spruce up `lambdata`!\n",
    "\n",
    "- Add at least one basic `unittest` to `lambdata`\n",
    "- Make sure there are docstrings wherever PEP 8 demands\n",
    "- Write a high-quality `README.md` that is both skimmable and has appropriate\n",
    "  examples/details/links for someone who wants to understand your code\n",
    "- Pick a license for your package, and add it in a `LICENSE` file."
   ]
  },
  {
   "cell_type": "code",
   "execution_count": 1,
   "metadata": {},
   "outputs": [
    {
     "data": {
      "text/plain": [
       "'C:\\\\Users\\\\IshGish\\\\Google Drive\\\\Z - Mine\\\\Programming\\\\Lambda\\\\DS9\\\\U3\\\\W1\\\\lambdata-JoshuaPMallory\\\\lambdata_joshuapmallory'"
      ]
     },
     "execution_count": 1,
     "metadata": {},
     "output_type": "execute_result"
    }
   ],
   "source": [
    "import os\n",
    "\n",
    "\n",
    "os.chdir('lambdata-JoshuaPMallory\\lambdata_joshuapmallory')\n",
    "os.getcwd()"
   ]
  },
  {
   "cell_type": "code",
   "execution_count": 2,
   "metadata": {},
   "outputs": [
    {
     "name": "stderr",
     "output_type": "stream",
     "text": [
      ".\n",
      "----------------------------------------------------------------------\n",
      "Ran 1 test in 0.000s\n",
      "\n",
      "OK\n"
     ]
    }
   ],
   "source": [
    "!test.py"
   ]
  },
  {
   "cell_type": "code",
   "execution_count": 3,
   "metadata": {},
   "outputs": [
    {
     "data": {
      "text/plain": [
       "'C:\\\\Users\\\\IshGish\\\\Google Drive\\\\Z - Mine\\\\Programming\\\\Lambda\\\\DS9\\\\U3\\\\W1\\\\lambdata-JoshuaPMallory'"
      ]
     },
     "execution_count": 3,
     "metadata": {},
     "output_type": "execute_result"
    }
   ],
   "source": [
    "os.chdir('..')\n",
    "os.getcwd()"
   ]
  },
  {
   "cell_type": "markdown",
   "metadata": {},
   "source": [
    "## Resources and Stretch Goals\n",
    "\n",
    "Add a `ROADMAP.md` file to your repo, with an outline of where you'd like to\n",
    "take your `lambdata` project. It can also include guidelines for what sort of\n",
    "contributions you'd like to have and how somebody can go about getting started\n",
    "building and developing on your code.\n",
    "\n",
    "Run [pydoc](https://docs.python.org/3.7/library/pydoc.html) on your `lambdata`\n",
    "package to generate documentation based on your docstring comments. Try browsing\n",
    "it locally, and for an extra stretch goal - put it in a `/docs` directory in\n",
    "your repo and enable GitHub Pages to serve it on the web!\n",
    "\n",
    "Try [pytest](https://docs.pytest.org/en/latest/), a widely used Python testing\n",
    "framework a bit more powerful than `unittest` (though you do have to install\n",
    "it - but you've been dealing with `pip` a lot!).\n",
    "\n",
    "Read [the MIT License, Line by\n",
    "Line](https://writing.kemitchell.com/2016/09/21/MIT-License-Line-by-Line.html),\n",
    "and write your own summary of it with a target audience of another person who\n",
    "writes code.."
   ]
  }
 ],
 "metadata": {
  "kernelspec": {
   "display_name": "Python 3",
   "language": "python",
   "name": "python3"
  },
  "language_info": {
   "codemirror_mode": {
    "name": "ipython",
    "version": 3
   },
   "file_extension": ".py",
   "mimetype": "text/x-python",
   "name": "python",
   "nbconvert_exporter": "python",
   "pygments_lexer": "ipython3",
   "version": "3.7.5"
  }
 },
 "nbformat": 4,
 "nbformat_minor": 4
}
