{
 "cells": [
  {
   "cell_type": "markdown",
   "metadata": {},
   "source": [
    "Lambda School Data Science\n",
    "\n",
    "*Unit 3, Sprint 1, Module 2 Assignment*\n",
    "\n",
    "---"
   ]
  },
  {
   "cell_type": "markdown",
   "metadata": {},
   "source": [
    "# Object-Oriented Programming, Code Style and Reviews\n",
    "\n",
    "\"Code that works\" is good - \"code that other people can read\" is better."
   ]
  },
  {
   "cell_type": "markdown",
   "metadata": {},
   "source": [
    "## Learning Objectives\n",
    "\n",
    "- create a basic Python class, with a constructor, methods, and fields\n",
    "- write stylistic (PEP 8) Python code, and give and receive a basic code review"
   ]
  },
  {
   "cell_type": "markdown",
   "metadata": {},
   "source": [
    "## Before Lecture\n",
    "\n",
    "Read the [official Python Class\n",
    "tutorial](https://docs.python.org/3/tutorial/classes.html), and try to reproduce\n",
    "the examples in your own Python environment.\n",
    "\n",
    "Read the [PEP 8 style guide](https://pep8.org/), and then look back at code\n",
    "you've written in the past. Identify at least three times you did something the\n",
    "style guide says you shouldn't, and write the corrected version."
   ]
  },
  {
   "cell_type": "markdown",
   "metadata": {},
   "source": [
    "## Live Lecture Task\n",
    "\n",
    "We will first live code a class based on class request/discussion, brainstorming\n",
    "what fields and methods make sense. We will then discuss style more broadly.\n",
    "\n",
    "Style matters - but we're engineers, which means we're a little lazy. Let's set\n",
    "up tools to check style automatically, so we fix issues before they hit review.\n",
    "\n",
    "Then we will discuss what a code review actually is, and if folks are brave they\n",
    "can volunteer to have their code reviewed with the class. It's scary, but this\n",
    "is a safe time to do it (and good practice for the assignment!)."
   ]
  },
  {
   "cell_type": "markdown",
   "metadata": {},
   "source": [
    "## Assignment\n",
    "\n",
    "First, revisit your code from yesterday - was it stylistic? Run a style check\n",
    "(as shown in lecture) and correct any issues you see. Also, refactor your code\n",
    "to use at least 1 class - remember, be DRY (Don't Repeat Yourself), not WET\n",
    "(Write Every Time)!\n",
    "\n",
    "Then - code review! Pair with another student (PMs will facilitate, especially\n",
    "in case of odd numbers), and share your `lambdata` repo with each other. Read\n",
    "and review their code, and also check that they have published their package to\n",
    "test PyPI and that it can be installed and used.\n",
    "\n",
    "Read the [Lambda School Peer Code Review\n",
    "Checklist](https://github.com/LambdaSchool/Peer-Code-Review-Checklist)\n",
    "and [fill out the review form](https://airtable.com/shrVBzrhkcT6GqExr) for your\n",
    "peer.\n",
    "\n",
    "The objectives to evaluate are as described in the prior module (`lambdata`\n",
    "package with at least 2 helper functions, published on test PyPI).\n",
    "\n",
    "Considerations to keep in mind while doing a code review:\n",
    "- Can you follow the code flow/layout?\n",
    "- Can you understand the logic/reasoning for what it is doing?\n",
    "- Could you build with (`import` and use) or extend on it (as a developer adding\n",
    "  more to the codebase)?\n",
    "\n",
    "For comments and notes, focus on style and design. Find at least *2* things to\n",
    "compliment and at least *1* constructive criticism. It's also great to learn\n",
    "things from their code, and ask questions if there's something you don't\n",
    "understand. Good code isn't clever - it's clear!"
   ]
  },
  {
   "cell_type": "markdown",
   "metadata": {},
   "source": [
    "# My code"
   ]
  },
  {
   "cell_type": "code",
   "execution_count": 1,
   "metadata": {},
   "outputs": [
    {
     "name": "stdout",
     "output_type": "stream",
     "text": [
      "Looking in indexes: https://test.pypi.org/simple/\n",
      "Collecting lambdata-JoshuaPMallory==0.1.4\n",
      "  Using cached https://test-files.pythonhosted.org/packages/ed/39/e61d776fc04a14d1fccd55167c45fdfcce1e31b79183314de96c83a5c33c/lambdata_JoshuaPMallory-0.1.4-py3-none-any.whl\n",
      "Requirement already satisfied: matplotlib in c:\\program files\\python37\\lib\\site-packages (from lambdata-JoshuaPMallory==0.1.4) (3.1.1)\n",
      "Requirement already satisfied: pandas in c:\\program files\\python37\\lib\\site-packages (from lambdata-JoshuaPMallory==0.1.4) (0.25.3)\n",
      "Requirement already satisfied: autopep8 in c:\\program files\\python37\\lib\\site-packages (from lambdata-JoshuaPMallory==0.1.4) (1.4.4)\n",
      "Requirement already satisfied: numpy in c:\\program files\\python37\\lib\\site-packages (from lambdata-JoshuaPMallory==0.1.4) (1.17.4)\n",
      "Requirement already satisfied: python-dateutil>=2.1 in c:\\program files\\python37\\lib\\site-packages (from matplotlib->lambdata-JoshuaPMallory==0.1.4) (2.8.1)\n",
      "Requirement already satisfied: kiwisolver>=1.0.1 in c:\\program files\\python37\\lib\\site-packages (from matplotlib->lambdata-JoshuaPMallory==0.1.4) (1.1.0)\n",
      "Requirement already satisfied: cycler>=0.10 in c:\\program files\\python37\\lib\\site-packages (from matplotlib->lambdata-JoshuaPMallory==0.1.4) (0.10.0)\n",
      "Requirement already satisfied: pyparsing!=2.0.4,!=2.1.2,!=2.1.6,>=2.0.1 in c:\\program files\\python37\\lib\\site-packages (from matplotlib->lambdata-JoshuaPMallory==0.1.4) (2.4.5)\n",
      "Requirement already satisfied: pytz>=2017.2 in c:\\program files\\python37\\lib\\site-packages (from pandas->lambdata-JoshuaPMallory==0.1.4) (2019.3)\n",
      "Requirement already satisfied: pycodestyle>=2.4.0 in c:\\program files\\python37\\lib\\site-packages (from autopep8->lambdata-JoshuaPMallory==0.1.4) (2.5.0)\n",
      "Requirement already satisfied: six>=1.5 in c:\\program files\\python37\\lib\\site-packages (from python-dateutil>=2.1->matplotlib->lambdata-JoshuaPMallory==0.1.4) (1.13.0)\n",
      "Requirement already satisfied: setuptools in c:\\program files\\python37\\lib\\site-packages (from kiwisolver>=1.0.1->matplotlib->lambdata-JoshuaPMallory==0.1.4) (41.2.0)\n",
      "Installing collected packages: lambdata-JoshuaPMallory\n",
      "Successfully installed lambdata-JoshuaPMallory-0.1.4\n"
     ]
    }
   ],
   "source": [
    "!pip install -i https://test.pypi.org/simple/ lambdata-JoshuaPMallory==0.1.4"
   ]
  },
  {
   "cell_type": "code",
   "execution_count": 2,
   "metadata": {},
   "outputs": [
    {
     "data": {
      "text/plain": [
       "'https://drive.google.com/uc?id=1pEOgqOZcgxwu7gA4GnFuMwO_wVBLQ7cf'"
      ]
     },
     "execution_count": 2,
     "metadata": {},
     "output_type": "execute_result"
    }
   ],
   "source": [
    "from lambdata_joshuapmallory.utility_functions import google_drive_useable as gduse\n",
    "gduse('https://drive.google.com/open?id=1pEOgqOZcgxwu7gA4GnFuMwO_wVBLQ7cf')"
   ]
  },
  {
   "cell_type": "code",
   "execution_count": 3,
   "metadata": {},
   "outputs": [
    {
     "data": {
      "text/plain": [
       "'https://drive.google.com/uc?id=1pEOgqOZcgxwu7gA4GnFuMwO_wVBLQ7cf'"
      ]
     },
     "execution_count": 3,
     "metadata": {},
     "output_type": "execute_result"
    }
   ],
   "source": [
    "from lambdata_joshuapmallory import utility_functions\n",
    "\n",
    "utility_functions.google_drive_useable('https://drive.google.com/open?id=1pEOgqOZcgxwu7gA4GnFuMwO_wVBLQ7cf')"
   ]
  },
  {
   "cell_type": "markdown",
   "metadata": {},
   "source": [
    "# My partner's code"
   ]
  },
  {
   "cell_type": "code",
   "execution_count": 5,
   "metadata": {},
   "outputs": [
    {
     "name": "stdout",
     "output_type": "stream",
     "text": [
      "Looking in indexes: https://test.pypi.org/simple/\n",
      "Collecting lambdata-shmilyface==0.0.2\n",
      "  Using cached https://test-files.pythonhosted.org/packages/3a/ce/cf0d7c707112f1be8c3a5bf1c9924354695c0573de84fd4d8a53e231c9f9/lambdata_shmilyface-0.0.2-py3-none-any.whl\n",
      "Requirement already satisfied: pandas in c:\\program files\\python37\\lib\\site-packages (from lambdata-shmilyface==0.0.2) (0.25.3)\n",
      "Requirement already satisfied: numpy in c:\\program files\\python37\\lib\\site-packages (from lambdata-shmilyface==0.0.2) (1.17.4)\n",
      "Requirement already satisfied: python-dateutil>=2.6.1 in c:\\program files\\python37\\lib\\site-packages (from pandas->lambdata-shmilyface==0.0.2) (2.8.1)\n",
      "Requirement already satisfied: pytz>=2017.2 in c:\\program files\\python37\\lib\\site-packages (from pandas->lambdata-shmilyface==0.0.2) (2019.3)\n",
      "Requirement already satisfied: six>=1.5 in c:\\program files\\python37\\lib\\site-packages (from python-dateutil>=2.6.1->pandas->lambdata-shmilyface==0.0.2) (1.13.0)\n",
      "Installing collected packages: lambdata-shmilyface\n",
      "Successfully installed lambdata-shmilyface-0.0.2\n"
     ]
    }
   ],
   "source": [
    "!pip install -i https://test.pypi.org/simple/ lambdata-shmilyface==0.0.2"
   ]
  },
  {
   "cell_type": "code",
   "execution_count": 6,
   "metadata": {},
   "outputs": [],
   "source": [
    "import lambdata_shmilyface"
   ]
  },
  {
   "cell_type": "markdown",
   "metadata": {},
   "source": [
    "## Resources and Stretch Goals\n",
    "\n",
    "If you have trouble getting a PEP8 tool working in your local environment, you\n",
    "can use [PEP8 online](http://pep8online.com/) to check code.\n",
    "\n",
    "Also, many organizations create their own \"flavor\" of style guides - for an example,\n",
    "read the\n",
    "[Google Python Style Guide](https://google.github.io/styleguide/pyguide.html).\n",
    "\n",
    "And if you get through all the above - make `lambdata` better! Implement 2 more\n",
    "helper functions, and/or refactor your code to be more object-oriented."
   ]
  },
  {
   "cell_type": "code",
   "execution_count": 6,
   "metadata": {},
   "outputs": [],
   "source": [
    "import pandas"
   ]
  },
  {
   "cell_type": "code",
   "execution_count": 5,
   "metadata": {},
   "outputs": [
    {
     "name": "stdout",
     "output_type": "stream",
     "text": [
      "something\n"
     ]
    }
   ],
   "source": [
    "Untitled.nothing()"
   ]
  },
  {
   "cell_type": "code",
   "execution_count": null,
   "metadata": {},
   "outputs": [],
   "source": []
  }
 ],
 "metadata": {
  "kernelspec": {
   "display_name": "Python 3",
   "language": "python",
   "name": "python3"
  },
  "language_info": {
   "codemirror_mode": {
    "name": "ipython",
    "version": 3
   },
   "file_extension": ".py",
   "mimetype": "text/x-python",
   "name": "python",
   "nbconvert_exporter": "python",
   "pygments_lexer": "ipython3",
   "version": "3.7.5"
  }
 },
 "nbformat": 4,
 "nbformat_minor": 4
}
