{
 "cells": [
  {
   "cell_type": "markdown",
   "metadata": {},
   "source": [
    "Lambda School Data Science\n",
    "\n",
    "*Unit 3, Sprint 1, Module 2 Lesson*\n",
    "\n",
    "---"
   ]
  },
  {
   "cell_type": "code",
   "execution_count": null,
   "metadata": {},
   "outputs": [],
   "source": [
    "\"\"\"\n",
    "Classes to represent games.\n",
    "\"\"\"\n",
    "\n",
    "from random import random\n",
    "\n",
    "class Game:\n",
    "    \"\"\"\n",
    "    General representation of an abstract game.\n",
    "    \"\"\"\n",
    "    def __init__(self, rounds = 2, player1 = \"Nicole\", player2 = \"Kumar\"):\n",
    "        self.rounds  = 2\n",
    "        self.steps   = 5\n",
    "        self.player1 = player1\n",
    "        self.player2 = player2\n",
    "\n",
    "    def print_players(self):\n",
    "        \"\"\"\n",
    "        Print the game players\n",
    "        \"\"\"\n",
    "        print('{} is playing {}'.format(self.player1,self.player2))\n",
    "\n",
    "    def add_round(self):\n",
    "        \"\"\"\n",
    "        Increment rounds by 1\n",
    "        \"\"\"\n",
    "        self.rounds += 1\n",
    "\n",
    "    def winner(self):\n",
    "        \"\"\"randomly pick and return winner\"\"\"\n",
    "        return self.player1 if random() > 0.5 else self.player2\n",
    "\n",
    "class Tic(Game):\n",
    "    \"\"\"\n",
    "    Tictactoe subclass of Game\n",
    "    \"\"\"\n",
    "\n",
    "    def __init__(self, rounds = 3, player1 = 'Superman', player2 = 'Stephanie'):\n",
    "        super().__init__(rounds, player1, player2)\n",
    "\n",
    "    def print_players(self):\n",
    "        print('{} is playing Tic Tac Toe with {}'.format(self.player1,\n",
    "        self.player2))\n"
   ]
  },
  {
   "cell_type": "code",
   "execution_count": null,
   "metadata": {},
   "outputs": [],
   "source": [
    "game1 = Game()\n",
    "game2 = Game()\n",
    "ttt   = Tic()"
   ]
  },
  {
   "cell_type": "code",
   "execution_count": null,
   "metadata": {},
   "outputs": [],
   "source": [
    "ttt.player1"
   ]
  },
  {
   "cell_type": "code",
   "execution_count": null,
   "metadata": {},
   "outputs": [],
   "source": [
    "ttt.print_players()"
   ]
  },
  {
   "cell_type": "code",
   "execution_count": null,
   "metadata": {},
   "outputs": [],
   "source": [
    "ttt.winner()"
   ]
  },
  {
   "cell_type": "markdown",
   "metadata": {},
   "source": [
    "### Auto pep8\n",
    "\n",
    "Use this to set your code into pep 8 style"
   ]
  },
  {
   "cell_type": "code",
   "execution_count": null,
   "metadata": {},
   "outputs": [],
   "source": [
    "import autopep8\n",
    "autopep8 --in-place NAME_OF_FILE.py"
   ]
  }
 ],
 "metadata": {
  "kernelspec": {
   "display_name": "Python 3",
   "language": "python",
   "name": "python3"
  },
  "language_info": {
   "codemirror_mode": {
    "name": "ipython",
    "version": 3
   },
   "file_extension": ".py",
   "mimetype": "text/x-python",
   "name": "python",
   "nbconvert_exporter": "python",
   "pygments_lexer": "ipython3",
   "version": "3.7.5"
  }
 },
 "nbformat": 4,
 "nbformat_minor": 4
}
