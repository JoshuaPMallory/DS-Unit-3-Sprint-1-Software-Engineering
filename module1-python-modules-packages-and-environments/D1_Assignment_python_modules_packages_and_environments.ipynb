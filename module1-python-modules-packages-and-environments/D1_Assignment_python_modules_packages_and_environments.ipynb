{
 "cells": [
  {
   "cell_type": "markdown",
   "metadata": {},
   "source": [
    "Lambda School Data Science\n",
    "\n",
    "*Unit 3, Sprint 1, Module 1 Assignment*\n",
    "\n",
    "---"
   ]
  },
  {
   "cell_type": "markdown",
   "metadata": {},
   "source": [
    "# Assignment"
   ]
  },
  {
   "cell_type": "markdown",
   "metadata": {},
   "source": [
    "# Python Modules, Packages, and Environments\n",
    "\n",
    "Places for your code (and dependencies) to live."
   ]
  },
  {
   "cell_type": "markdown",
   "metadata": {},
   "source": [
    "## Learning Objectives\n",
    "\n",
    "- Understand and follow Python namespaces and imports\n",
    "- Create a Python package and install dependencies in a dedicated environment"
   ]
  },
  {
   "cell_type": "markdown",
   "metadata": {},
   "source": [
    "## Before Lecture\n",
    "\n",
    "Install [Anaconda](https://www.anaconda.com/distribution) on your local machine\n",
    "if you haven't already, and read the official documentation for\n",
    "[Python modules](https://docs.python.org/3.7/tutorial/modules.html)."
   ]
  },
  {
   "cell_type": "markdown",
   "metadata": {},
   "source": [
    "## Live Lecture Task\n",
    "\n",
    "We're going to start our own Python package the right way - by making an\n",
    "environment with `pipenv`, installing our dependencies, and making some classes."
   ]
  },
  {
   "cell_type": "markdown",
   "metadata": {},
   "source": [
    "## Assignment\n",
    "\n",
    "1) Create your own `lambdata-yourusername` package, as shown in lecture\n",
    "\n",
    "2) Implement at least 2 of the following \"helper\" utility functions:\n",
    "  - Check a dataframe for nulls, print/report them in a nice \"pretty\" format\n",
    "  - Report a confusion matrix, with labels for easier interpretation\n",
    "  - Train/*validate*/test split function for a dataframe\n",
    "  - \"Generate more data\" function, takes dataframes and makes more rows\n",
    "  - Contingency table + Chi-squared report function: takes two categorical\n",
    "    variables, outputs a contingency table and corresponding Chi-squared test\n",
    "  - Split addresses into multiple columns city, state zip -> df['city]\n",
    "    df['state'] df['zip'] use regexes to detect format and pull out important\n",
    "    pieces\n",
    "  - State abbreviation -> Full Name and visa versa. FL -> Florida, etc.\n",
    "    (Handle Washington DC and territories like Puerto Rico etc.)\n",
    "  - Single function to take a list, turn it into a series and add it to a\n",
    "    dataframe as a new column\n",
    "  - 1.5*Interquartile range outlier detection/removal function.\n",
    "  - Function to set notebook display options.\n",
    "  - Function to split dates (\"MM/DD/YYYY\", etc.) into multiple columns\n",
    "  - Your idea here! (You will implement more later in the week as well)\n",
    "  \n",
    "3) Register for a [test PyPI account](https://test.pypi.org/account/register/)\n",
    "\n",
    "4) Publish your package as `lambdata-yourusername` (to avoid conflicts)\n",
    "\n",
    "5) Start a Python notebook, and install your package with\n",
    "  `!pip install --index-url https://test.pypi.org/simple/ lambdata-yourusername`\n",
    "  \n",
    "6) `import lambdata_yourusername as lambdata` in your notebook, and try it out!\n",
    "\n",
    "We'll step through in lecture - building and publishing a package requires\n",
    "`twine`, and is generally done with these commands:\n",
    "- `python setup.py sdist bdist_wheel` (build the actual package)\n",
    "- `twine upload --repository-url https://test.pypi.org/legacy/ dist/*`\n",
    "\n",
    "`twine` itself can be installed with `pipenv install -d twine` so it is a\n",
    "development dependency.\n",
    "\n",
    "Many of the utility functions can be implemented with the right clever calls\n",
    "to `pandas`, `numpy`, and other libraries - that's fine! Use those as\n",
    "dependencies. There's still value in a package that encapsulates more\n",
    "complicated libraries and exposes streamlined functionality with a simplified\n",
    "API.\n",
    "\n",
    "Also note - there's a lot more than 2 ideas above. Throughout the week, whenever\n",
    "you have finished the daily assignment baseline, you can always come back and\n",
    "add more functionality to your `lambdata` (including ideas of your own)!"
   ]
  },
  {
   "cell_type": "code",
   "execution_count": null,
   "metadata": {},
   "outputs": [],
   "source": []
  },
  {
   "cell_type": "markdown",
   "metadata": {},
   "source": [
    "## Resources and Stretch Goals\n",
    "\n",
    "The [official Python packaging tutorial](https://packaging.python.org/tutorials/packaging-projects/)\n",
    "can help you if you get stuck with the assignment. Make sure to use Test PyPI!\n",
    "If you get through all the steps, try some of the following stretch goals:\n",
    "\n",
    "- Check out the source code for [pandas](https://github.com/pandas-dev/pandas),\n",
    "  and see if you can make sense of it. Try to find the actual logic behind\n",
    "  specific functions you use (e.g. `pd.DataFrame`, `df.replace`, etc.). Reading\n",
    "  source code is challenging, especially from large codebases, but it's a skill\n",
    "  that will help you debug and fix real issues in professional situations.\n",
    "\n",
    "- Explore [PyPI](https://pypi.org), the Python Package Index - this is where\n",
    "  `pip` (the official base Python package installer, which both Anaconda and\n",
    "  `pipenv` build on) gets things from by default. For now stick with Test PyPI\n",
    "  for your own publishing, but you can work to make things \"real\"!"
   ]
  }
 ],
 "metadata": {
  "kernelspec": {
   "display_name": "Python 3",
   "language": "python",
   "name": "python3"
  },
  "language_info": {
   "codemirror_mode": {
    "name": "ipython",
    "version": 3
   },
   "file_extension": ".py",
   "mimetype": "text/x-python",
   "name": "python",
   "nbconvert_exporter": "python",
   "pygments_lexer": "ipython3",
   "version": "3.7.5"
  }
 },
 "nbformat": 4,
 "nbformat_minor": 4
}
