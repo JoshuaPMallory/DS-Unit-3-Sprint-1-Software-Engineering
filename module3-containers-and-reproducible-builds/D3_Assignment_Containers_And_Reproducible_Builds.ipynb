{
 "cells": [
  {
   "cell_type": "markdown",
   "metadata": {},
   "source": [
    "Lambda School Data Science\n",
    "\n",
    "*Unit 3, Sprint 1, Module 3 Assignment*\n",
    "\n",
    "---"
   ]
  },
  {
   "cell_type": "markdown",
   "metadata": {},
   "source": [
    "# Containers and Reproducible Builds"
   ]
  },
  {
   "cell_type": "markdown",
   "metadata": {},
   "source": [
    "## Learning Objectives\n",
    "\n",
    "- Launch Docker containers and access/execute programs on them\n",
    "- Create/customize a Dockerfile to build a basic custom container"
   ]
  },
  {
   "cell_type": "markdown",
   "metadata": {},
   "source": [
    "## Before Lecture\n",
    "\n",
    "- If you have Linux, MacOS Sierra or newer or Windows 10 Pro, install\n",
    "  [Docker Desktop](https://www.docker.com/products/docker-desktop)\n",
    "- If you have older MacOS, Windows 10 Home, or older Windows, install\n",
    "  [Docker Toolbox](https://docs.docker.com/toolbox/overview/)\n",
    "- If you're unable to locally install Docker, sign up for an account at\n",
    "  [Docker Hub](https://hub.docker.com/)"
   ]
  },
  {
   "cell_type": "markdown",
   "metadata": {},
   "source": [
    "## Live Lecture Task\n",
    "\n",
    "Working with Docker is tricky - we'll step through a complete workflow live, and\n",
    "answer questions that arise. In-depth debugging should be done 1:1 with PMs\n",
    "after lecture."
   ]
  },
  {
   "cell_type": "markdown",
   "metadata": {},
   "source": [
    "## Assignment\n",
    "\n",
    "Install and run code from your `lambdata` package inside a Docker container.\n",
    "This is a relatively simple baseline to support the variety of local workflows\n",
    "students will have."
   ]
  },
  {
   "cell_type": "code",
   "execution_count": 2,
   "metadata": {},
   "outputs": [
    {
     "data": {
      "text/plain": [
       "'C:\\\\Users\\\\IshGish\\\\Google Drive\\\\Z - Mine\\\\Programming\\\\Lambda\\\\DS9\\\\U3\\\\W1\\\\lambdata-JoshuaPMallory'"
      ]
     },
     "execution_count": 2,
     "metadata": {},
     "output_type": "execute_result"
    }
   ],
   "source": [
    "import os\n",
    "\n",
    "os.chdir('lambdata-JoshuaPMallory')\n",
    "os.getcwd()"
   ]
  },
  {
   "cell_type": "markdown",
   "metadata": {},
   "source": [
    "## Resources and Stretch Goals\n",
    "\n",
    "If your local installation isn't working, you can use the [Play with Docker\n",
    "Classroom](https://training.play-with-docker.com/) - a Docker Hub account will\n",
    "let you try Docker and spin up containers from your browser. They are\n",
    "*temporary* (will go away when you leave the page), and editing the `Dockerfile`\n",
    "will be a bit cumbersome, but we'll show how to in class.\n",
    "\n",
    "The [official Docker documentation](https://docs.docker.com/) is extremely\n",
    "thorough and worth checking out. For a particular stretch goal, explore\n",
    "[Docker Compose](https://docs.docker.com/compose/), a powerful approach to\n",
    "combining containers (e.g. you can run a local webapp and database together).\n",
    "\n",
    "Explore [Hands-On Machine Learning in Docker](https://github.com/ageron/handson-ml/tree/master/docker),\n",
    "a prebuilt Docker container with all sorts of DS/ML goodies. By using Docker you\n",
    "can get up and running with sophisticated systems remarkably quickly.\n",
    "\n",
    "Want to better understand the difference between VMs (\"heavy\") and containers\n",
    "(\"light\")? [This blog post](https://www.backblaze.com/blog/vm-vs-containers/)\n",
    "highlights and summarizes the benefits and use cases of both.\n"
   ]
  }
 ],
 "metadata": {
  "kernelspec": {
   "display_name": "Python 3",
   "language": "python",
   "name": "python3"
  },
  "language_info": {
   "codemirror_mode": {
    "name": "ipython",
    "version": 3
   },
   "file_extension": ".py",
   "mimetype": "text/x-python",
   "name": "python",
   "nbconvert_exporter": "python",
   "pygments_lexer": "ipython3",
   "version": "3.7.5"
  }
 },
 "nbformat": 4,
 "nbformat_minor": 4
}
